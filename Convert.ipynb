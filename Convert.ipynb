{
 "cells": [
  {
   "cell_type": "code",
   "execution_count": 1,
   "metadata": {},
   "outputs": [
    {
     "data": {
      "text/plain": [
       "Main.Pluto2Jupyter"
      ]
     },
     "metadata": {},
     "output_type": "display_data"
    }
   ],
   "source": [
    "include(\"Pluto2Jupyter.jl\")"
   ]
  },
  {
   "cell_type": "code",
   "execution_count": 3,
   "metadata": {},
   "outputs": [
    {
     "data": {
      "text/plain": [
       "19-element Vector{Int64}:\n",
       "  2420\n",
       "   335\n",
       "  4409\n",
       "  7608\n",
       "  2356\n",
       " 32499\n",
       " 28643\n",
       " 15477\n",
       " 25401\n",
       " 15512\n",
       " 13061\n",
       "  4618\n",
       " 30428\n",
       " 17216\n",
       " 19828\n",
       " 32583\n",
       " 16050\n",
       " 11859\n",
       "   328"
      ]
     },
     "metadata": {},
     "output_type": "display_data"
    }
   ],
   "source": [
    "files = readdir(\".\")\n",
    "files = files[[occursin(r\"^[0-9][0-9]-\", f) for f in files]]\n",
    "\n",
    "map(f -> Pluto2Jupyter.nb2jl(f), files)\n"
   ]
  }
 ],
 "metadata": {
  "kernelspec": {
   "display_name": "Julia 1.9.0",
   "language": "julia",
   "name": "julia-1.9"
  },
  "language_info": {
   "file_extension": ".jl",
   "mimetype": "application/julia",
   "name": "julia",
   "version": "1.9.0"
  },
  "orig_nbformat": 4
 },
 "nbformat": 4,
 "nbformat_minor": 2
}
